{
 "cells": [
  {
   "cell_type": "code",
   "execution_count": 1,
   "metadata": {},
   "outputs": [],
   "source": [
    "import uuid\n",
    "\n",
    "import chromadb\n",
    "\n",
    "import numpy as np\n",
    "\n",
    "\n",
    "client = chromadb.PersistentClient(\"hnsw_rebuild_test\")\n",
    "\n",
    "col = client.get_or_create_collection(\"test_collection\")\n",
    "\n",
    "ids = [str(uuid.uuid4()) for _ in range(10000)]\n",
    "documents = [f\"document {i}\" for i in range(10000)]\n",
    "embeddings = np.random.uniform(0, 1, (10000, 384)).tolist()\n",
    "\n",
    "random_ids_to_delete = np.random.choice(ids, size=1000, replace=False)\n",
    "assert all(isinstance(id, str) for id in random_ids_to_delete)\n",
    "\n",
    "col.add(ids=ids, documents=documents, embeddings=embeddings)\n",
    "\n",
    "col.delete(ids=random_ids_to_delete.tolist())\n"
   ]
  },
  {
   "cell_type": "code",
   "execution_count": 1,
   "metadata": {},
   "outputs": [
    {
     "data": {
      "text/plain": [
       "10000"
      ]
     },
     "execution_count": 1,
     "metadata": {},
     "output_type": "execute_result"
    }
   ],
   "source": [
    "import chromadb\n",
    "\n",
    "\n",
    "client = chromadb.PersistentClient(\"hnsw_rebuild_test\")\n",
    "\n",
    "col = client.get_or_create_collection(\"test_collection\")\n",
    "\n",
    "res = col.get(include=[\"embeddings\"])\n",
    "\n",
    "len(res[\"ids\"])\n"
   ]
  }
 ],
 "metadata": {
  "kernelspec": {
   "display_name": "chromadb-ops-Fd3FbVr4-py3.11",
   "language": "python",
   "name": "python3"
  },
  "language_info": {
   "codemirror_mode": {
    "name": "ipython",
    "version": 3
   },
   "file_extension": ".py",
   "mimetype": "text/x-python",
   "name": "python",
   "nbconvert_exporter": "python",
   "pygments_lexer": "ipython3",
   "version": "3.11.7"
  }
 },
 "nbformat": 4,
 "nbformat_minor": 2
}
