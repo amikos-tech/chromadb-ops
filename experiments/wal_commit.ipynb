{
 "cells": [
  {
   "cell_type": "code",
   "execution_count": null,
   "id": "initial_id",
   "metadata": {
    "collapsed": true
   },
   "outputs": [],
   "source": [
    "import chromadb\n",
    "\n",
    "client = chromadb.PersistentClient(path=\"chroma-test-compact\")\n"
   ]
  },
  {
   "cell_type": "code",
   "outputs": [],
   "source": [
    "from chromadb.segment.impl.vector.local_persistent_hnsw import PersistentData\n",
    "from chromadb.segment import VectorReader\n",
    "from chromadb.types import SegmentScope, Operation\n",
    "\n",
    "# client._server._manager\n",
    "vector_segments = [s for s in client._server._sysdb.get_segments() if s['scope'] == SegmentScope.VECTOR]\n",
    "\n",
    "for s in vector_segments:\n",
    "    col=client._server._get_collection(s['collection'])\n",
    "    client._server._manager.hint_use_collection(s['collection'], Operation.ADD)\n",
    "    segment=client._server._manager.get_segment(s['collection'], VectorReader)\n",
    "    segment._apply_batch(segment._curr_batch)\n",
    "    segment._persist()\n",
    "    metadata = PersistentData.load_from_file(\n",
    "        f\"chroma-test-compact/{s['id']}/index_metadata.pickle\")\n",
    "    print(len(metadata.id_to_label),col['name'] , metadata.max_seq_id)\n",
    "    segment.close_persistent_index()"
   ],
   "metadata": {
    "collapsed": false
   },
   "id": "8017e49aa42809d6",
   "execution_count": null
  },
  {
   "cell_type": "code",
   "outputs": [],
   "source": [
    "import chromadb\n",
    "\n",
    "client = chromadb.PersistentClient(path=\"chroma-test-compact\")\n",
    "\n",
    "client.list_collections()\n",
    "\n",
    "col = client.get_or_create_collection(\"chroma-qna7\")\n",
    "\n",
    "res= col.get(include=[\"embeddings\"])\n",
    "print(len(res[\"ids\"]),len(res[\"embeddings\"]))"
   ],
   "metadata": {
    "collapsed": false
   },
   "id": "f69e9a226404f06f",
   "execution_count": null
  },
  {
   "cell_type": "code",
   "outputs": [],
   "source": [],
   "metadata": {
    "collapsed": false
   },
   "id": "c6689ca863699e30"
  }
 ],
 "metadata": {
  "kernelspec": {
   "display_name": "Python 3",
   "language": "python",
   "name": "python3"
  },
  "language_info": {
   "codemirror_mode": {
    "name": "ipython",
    "version": 2
   },
   "file_extension": ".py",
   "mimetype": "text/x-python",
   "name": "python",
   "nbconvert_exporter": "python",
   "pygments_lexer": "ipython2",
   "version": "2.7.6"
  }
 },
 "nbformat": 4,
 "nbformat_minor": 5
}
